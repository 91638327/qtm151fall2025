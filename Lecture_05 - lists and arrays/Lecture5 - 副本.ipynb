{
 "cells": [
  {
   "cell_type": "markdown",
   "id": "ee45ecea",
   "metadata": {},
   "source": [
    "# <span style=\"color:darkblue\"> Lists </span>\n",
    "\n",
    "### We often want to store multiple objects inside a single named location.\n",
    "\n",
    "### We can do so by creating \"lists\"\n",
    "- #### Lists are always created using square brackets [...]\n",
    "- #### The elements (items) of the list are separated by commas"
   ]
  },
  {
   "cell_type": "code",
   "execution_count": null,
   "id": "8fdf7bf8",
   "metadata": {},
   "outputs": [],
   "source": [
    "# Combined list of favorite movies from section 1 and section 2\n",
    "\n",
    "# We can hit return to continue on the next line if the current one \n",
    "# is getting too long - this is allowed in between the \"[\" and the \"]\"\n",
    "\n",
    "favorite_movies = [\"Lucy\", \"Lego Movie\", \"The Hunger Games\", \"Zootopia\", \n",
    "                   \"The Avengers\", \"Into the Wild\", \"Evil Dead (2013 remake)\",\n",
    "                   \"Mulholland Drive\"]\n",
    "\n",
    "print(type(favorite_movies))"
   ]
  },
  {
   "cell_type": "code",
   "execution_count": null,
   "id": "904aa3d9",
   "metadata": {},
   "outputs": [],
   "source": [
    "# Length of a list is the number of elements it contains\n",
    "# \"Elements\" aka \"entries\" aka \"components\" aka \"items\"\n",
    "print(len(favorite_movies))"
   ]
  },
  {
   "cell_type": "markdown",
   "id": "34407ba0",
   "metadata": {},
   "source": [
    "## Accessing individual elements from a list\n",
    "\n",
    "- #### Use square brackets, e.g. favorite_movies_lec_1[2]\n",
    "- #### Python lists always start at the **ZERO** position"
   ]
  },
  {
   "cell_type": "code",
   "execution_count": null,
   "id": "7e2bcd0a",
   "metadata": {},
   "outputs": [],
   "source": [
    "print(favorite_movies)\n",
    "# 1st movie in the list is \"Lucy\" "
   ]
  },
  {
   "cell_type": "code",
   "execution_count": null,
   "id": "a920e33c",
   "metadata": {},
   "outputs": [],
   "source": [
    "# In Python, \"Lucy\" is the ZEROTH movie (movie in position 0)\n",
    "print(favorite_movies[0])"
   ]
  },
  {
   "cell_type": "markdown",
   "id": "5f43b195",
   "metadata": {},
   "source": [
    "### It is often convenient to save an index to a named variable...you can use this variable to access the corresponding element of the list"
   ]
  },
  {
   "cell_type": "code",
   "execution_count": null,
   "id": "9bee9113",
   "metadata": {},
   "outputs": [],
   "source": [
    "# Kevin chose \"Lego Movie\" as his favorite, which is in position *1*\n",
    "kevin_index = 1\n",
    "# Niko chose \"The Avengers\" as his favorite, which is in position *4*\n",
    "niko_index = 4\n"
   ]
  },
  {
   "cell_type": "code",
   "execution_count": null,
   "id": "278181e3",
   "metadata": {},
   "outputs": [],
   "source": [
    "# We can use the variables we created in the last cell to access the \n",
    "# corresponding elements of the list\n",
    "\n",
    "kevins_fav_movie = favorite_movies[kevin_index]\n",
    "nikos_fav_movie = favorite_movies[niko_index]\n",
    "\n",
    "print(kevins_fav_movie)\n",
    "print(nikos_fav_movie)"
   ]
  },
  {
   "cell_type": "code",
   "execution_count": null,
   "id": "f5621a6c",
   "metadata": {},
   "outputs": [],
   "source": [
    "# We can change/redefine elements of a list after we have created it.\n",
    "\n",
    "# Once you access a single element of a list and assign it to a variable,\n",
    "# the variable and the list do not affect each other:\n",
    "\n",
    "print(kevins_fav_movie)\n",
    "\n",
    "favorite_movies[kevin_index] = \"The Lego Movie\"\n",
    "\n",
    "print(favorite_movies[1])\n",
    "print(kevins_fav_movie)\n"
   ]
  },
  {
   "cell_type": "markdown",
   "id": "5da05180",
   "metadata": {},
   "source": [
    "# **Warning**\n",
    "\n",
    "### If you try to create a new variable using the assignment operator with the **entire** list, it will not make a distinct copy! They will be two different names for the same object!"
   ]
  },
  {
   "cell_type": "code",
   "execution_count": null,
   "id": "0bcdcd58",
   "metadata": {},
   "outputs": [],
   "source": [
    "# we'll make a list where each entry is a floating-point number\n",
    "list_of_floats = [2.3, -1.0, 5.1, 9.9]\n",
    "\n",
    "# Here, we are grabbing *one* element of the list, so a new variable is made\n",
    "new_variable = list_of_floats[2]\n",
    "\n",
    "print(new_variable)\n",
    "\n",
    "list_of_floats[2] = 0.0\n",
    "\n",
    "print(list_of_floats)\n",
    "print(new_variable)"
   ]
  },
  {
   "cell_type": "code",
   "execution_count": null,
   "id": "74a6f6b5",
   "metadata": {},
   "outputs": [],
   "source": [
    "list_of_floats = [2.3, -1.0, 5.1, 9.9]\n",
    "\n",
    "# Here, we are using the *entire list* with the assignment operator, \n",
    "# so we are NOT making a distinct new variable\n",
    "\n",
    "list_of_numbers = list_of_floats\n",
    "\n",
    "print(list_of_numbers)\n",
    "\n",
    "list_of_floats[2] = 0.0\n",
    "\n",
    "print(list_of_numbers)"
   ]
  },
  {
   "cell_type": "markdown",
   "id": "e0c83ffb",
   "metadata": {},
   "source": [
    "### Lists can have elements with different types - and you can place values from existing variables too"
   ]
  },
  {
   "cell_type": "code",
   "execution_count": null,
   "id": "7570edc7",
   "metadata": {},
   "outputs": [],
   "source": [
    "q = 12.1\n",
    "my_list = [2, 0.1, -2, \"QTM151\", 3.3, \"DSci151\", q]\n",
    "print(my_list)\n",
    "\n",
    "# notice the last element is 12.1, and NOT the letter \"q\""
   ]
  },
  {
   "cell_type": "markdown",
   "id": "5724b3a5",
   "metadata": {},
   "source": [
    "### You can even have a list where one of the elements is itself a list"
   ]
  },
  {
   "cell_type": "code",
   "execution_count": null,
   "id": "89041e34",
   "metadata": {},
   "outputs": [],
   "source": [
    "another_list = [7, 5, favorite_movies, \"20\", 20]\n",
    "print(another_list)\n",
    "print(len(another_list))\n",
    "\n",
    "# entries are:\n",
    "# -> 7 (integer)\n",
    "# -> 5 (integer)\n",
    "# -> favorite_movies (list we created above)\n",
    "# -> the string \"20\" \n",
    "# -> the number 20 (an integer)"
   ]
  },
  {
   "cell_type": "code",
   "execution_count": null,
   "id": "c5a70fa1",
   "metadata": {},
   "outputs": [],
   "source": [
    "print(another_list[0])\n",
    "print(another_list[1])\n",
    "print(another_list[2])"
   ]
  },
  {
   "cell_type": "markdown",
   "id": "24ea415a",
   "metadata": {},
   "source": [
    "### Element 2 of another_list is a list itself. We can grab element 3 from the \"inside\" list as follows:"
   ]
  },
  {
   "cell_type": "code",
   "execution_count": null,
   "id": "e0b9d83c",
   "metadata": {},
   "outputs": [],
   "source": [
    "# another_list[2] is a list.\n",
    "# To grab element 3 of a list called \"name_of_list\", we type: name_of_list[3]\n",
    "# So to grab element 3 of another_list[2]:\n",
    "\n",
    "print(another_list[2][3])"
   ]
  },
  {
   "cell_type": "code",
   "execution_count": null,
   "id": "225bc65e",
   "metadata": {},
   "outputs": [],
   "source": [
    "# Access Niko's favorite movie\n",
    "print(another_list[2][niko_index])"
   ]
  },
  {
   "cell_type": "markdown",
   "id": "8bd1b279",
   "metadata": {},
   "source": [
    "# <span style=\"color:darkblue\"> NumPy Arrays </span>\n",
    "\n",
    "- ### The NumPy library (NUMerical PYthon) is a library that is widely used for numerical computations (computations with floating-point numbers)\n",
    "- ### It comes with a bunch of mathematical functions - it basically makes the \"math\" library obsolete\n",
    "- ### It also comes with its own \"list-like\" structure, the NumPy array"
   ]
  },
  {
   "cell_type": "code",
   "execution_count": 2,
   "id": "9f0cfb1f",
   "metadata": {},
   "outputs": [
    {
     "name": "stdout",
     "output_type": "stream",
     "text": [
      "<class 'numpy.ndarray'>\n"
     ]
    }
   ],
   "source": [
    "# import the library. \"np\" is the standard nickname\n",
    "import numpy as np\n",
    "\n",
    "# The most common way to create a Numpy array is to convert a list \n",
    "# into a numpy array.\n",
    "\n",
    "list_of_numbers = [5.6, 2.9, 9.7, -10, 0, 3]\n",
    "\n",
    "array_of_numbers = np.array(list_of_numbers)\n",
    "\n",
    "print(type(array_of_numbers))\n"
   ]
  },
  {
   "cell_type": "code",
   "execution_count": 3,
   "id": "105948cc",
   "metadata": {},
   "outputs": [
    {
     "name": "stdout",
     "output_type": "stream",
     "text": [
      "5.6\n",
      "0.0\n"
     ]
    }
   ],
   "source": [
    "# Usually, we would create the numpy array in a single line, without\n",
    "# defining a separate list first\n",
    "\n",
    "array_of_numbers = np.array([5.6, 2.9, 9.7, -10, 0, 3])\n",
    "\n",
    "\n",
    "# you can access elements of arrays in the same way as lists:\n",
    "print(array_of_numbers[0])\n",
    "print(array_of_numbers[4])"
   ]
  },
  {
   "cell_type": "markdown",
   "id": "da0ea9a9",
   "metadata": {},
   "source": [
    "#### NumPy arrays are primarily useful for storing numbers. You *can* make a NumPy array with strings or other objects, but that is unusual.\n",
    "\n",
    "#### One of the benefits of NumPy is that all operations on arrays are numerical, unlike lists"
   ]
  },
  {
   "cell_type": "code",
   "execution_count": null,
   "id": "ca6ea576",
   "metadata": {},
   "outputs": [],
   "source": [
    "list_1 = [2, 3, 5, 11]\n",
    "list_2 = [1, -4, 2, 0]\n",
    "\n",
    "# The \"+\" operation concatenates (combines) the lists\n",
    "print(list_1 + list_2)"
   ]
  },
  {
   "cell_type": "code",
   "execution_count": null,
   "id": "a233d825",
   "metadata": {},
   "outputs": [],
   "source": [
    "array_1 = np.array([2, 3, 5, 11])\n",
    "array_2 = np.array([1, -4, 2, 0])\n",
    "# The \"+\" operation adds the elements of the two arrays together\n",
    "print(array_1 + array_2)"
   ]
  },
  {
   "cell_type": "markdown",
   "id": "827d3037",
   "metadata": {},
   "source": [
    "### The + operation performs element-by-element addition between two arrays of the **same size**. Mathematically, we view NumPy arrays as *vectors*, specifically column vectors.\n",
    "\n",
    "$\\text{An example where both arrays/vectors have 4 elements}$\n",
    "\n",
    "$ a + b = \\begin{pmatrix} a_1 \\\\ a_2 \\\\ a_3 \\\\ a_4 \\end{pmatrix} +\n",
    "          \\begin{pmatrix} b_1 \\\\ b_2 \\\\ b_3 \\\\ a_4 \\end{pmatrix} =\n",
    "          \\begin{pmatrix} a_1 + b_1 \\\\ a_2 + b_2 \\\\ a_3 + b_3 \\\\ a_4 + b_4 \\end{pmatrix}$\n",
    "\n",
    "\n",
    "### You can also use the \"+\" operator with a Numpy Array and a single number\n",
    "\n",
    "$\\text{For example:}$\n",
    "\n",
    "$ a + 2 = \\begin{pmatrix} a_1 \\\\ a_2 \\\\ a_3\\end{pmatrix} + 2 = \\begin{pmatrix} a_1 + 2 \\\\ a_2 + 2 \\\\ a_3 + 2\\end{pmatrix}$"
   ]
  },
  {
   "cell_type": "code",
   "execution_count": 4,
   "id": "faaa2a1b",
   "metadata": {},
   "outputs": [
    {
     "name": "stdout",
     "output_type": "stream",
     "text": [
      "[ 5.  13.  -0.2]\n"
     ]
    }
   ],
   "source": [
    "# example\n",
    "\n",
    "a = np.array([3, 11, -2.2])\n",
    "print(a + 2)"
   ]
  },
  {
   "cell_type": "markdown",
   "id": "e237eb08",
   "metadata": {},
   "source": [
    "### We'll see below that this definition extends to other operations like subtraction, multiplication, division, exponentiation."
   ]
  },
  {
   "cell_type": "markdown",
   "id": "0f7547b0",
   "metadata": {},
   "source": [
    "# <span style=\"color:darkblue\"> Mathematical Constants and Operations </span>"
   ]
  },
  {
   "cell_type": "markdown",
   "id": "2fa813eb",
   "metadata": {},
   "source": [
    "### The standard mathematical operations - addition, subtraction, multiplication, division, exponentiation are standard in Python.\n",
    "\n",
    "#### In the cell below, we compute\n",
    "- #### $3.2 + 1.7 = 4.9$\n",
    "- #### $5 - 11 = -6$\n",
    "- #### $4 \\times 3 = 12$\n",
    "- #### $\\dfrac{1}{7} \\approx 0.142857$\n",
    "- #### $2^5 = 32$"
   ]
  },
  {
   "cell_type": "code",
   "execution_count": null,
   "id": "b8ce7d26",
   "metadata": {},
   "outputs": [],
   "source": [
    "print(3.2 + 1.7)\n",
    "print(5 - 11)\n",
    "print(4 * 3)\n",
    "print(1 / 7)\n",
    "print(2**5)"
   ]
  },
  {
   "cell_type": "markdown",
   "id": "fe5a8234",
   "metadata": {},
   "source": [
    "#### Be careful with order of operations (also known as operator precedence)\n",
    "\n",
    "#### How should we calculate the following in Python?\n",
    "$$ \\frac{13 + 8}{3} = \\frac{21}{3} = 7$$"
   ]
  },
  {
   "cell_type": "code",
   "execution_count": 5,
   "id": "b0e4ab03",
   "metadata": {},
   "outputs": [
    {
     "name": "stdout",
     "output_type": "stream",
     "text": [
      "7.0\n",
      "15.666666666666666\n"
     ]
    }
   ],
   "source": [
    "right_answer = (13 + 8) / 3\n",
    "wrong_answer = 13 + 8 / 3\n",
    "print(right_answer)\n",
    "print(wrong_answer)"
   ]
  },
  {
   "cell_type": "markdown",
   "id": "21e6c23a",
   "metadata": {},
   "source": [
    "#### How about:\n",
    "\n",
    "$$ \\frac{27}{12 - 3} = \\frac{27}{9} = 3$$"
   ]
  },
  {
   "cell_type": "code",
   "execution_count": null,
   "id": "ce9f524a",
   "metadata": {},
   "outputs": [],
   "source": [
    "right_answer = 27 / (12 - 3)\n",
    "wrong_answer = 27 / 12 - 3\n",
    "print(right_answer)\n",
    "print(wrong_answer)"
   ]
  },
  {
   "cell_type": "markdown",
   "id": "ede0a480",
   "metadata": {},
   "source": [
    "## Numpy comes with a wide variety of mathematical constants and functions\n",
    "\n",
    "#### Examples of numPy functions\n",
    "\n",
    "$ \\ln(x), \\mathrm{e}^x, \\sin(x), \\cos(x), \\sqrt{x}$"
   ]
  },
  {
   "cell_type": "code",
   "execution_count": null,
   "id": "f4704ca7",
   "metadata": {},
   "outputs": [],
   "source": [
    "# log(x) computes the logarithm with base \"e\" (Euler constant)\n",
    "    # in high school you might have called this ln(x)\n",
    "# exp(x) compute the Euler constant raised to the power of \"x\"\n",
    "# sin(x) computes the sine of x (in radians)\n",
    "# cos(x) computes the cosine of x (in radians)\n",
    "# In this example, we're substituting x = 2\n",
    "\n",
    "print(np.log(2))\n",
    "print(np.exp(2))\n",
    "print(np.sin(2))\n",
    "print(np.cos(2))\n",
    "print(np.sqrt(2))"
   ]
  },
  {
   "cell_type": "code",
   "execution_count": null,
   "id": "12e701b0",
   "metadata": {},
   "outputs": [],
   "source": [
    "# NumPy also comes with built-in constants like\n",
    "print(np.pi) # pi = circle's circumference/circle's diameter\n",
    "\n",
    "print(np.e) # Euler's number = limit of (1 + 1/n)^n as n goes to infinity\n"
   ]
  },
  {
   "cell_type": "markdown",
   "id": "bc3210dc",
   "metadata": {},
   "source": [
    "##### Summary statistics of an array"
   ]
  },
  {
   "cell_type": "code",
   "execution_count": null,
   "id": "f62077a2",
   "metadata": {},
   "outputs": [],
   "source": [
    "# We can compute the average of a numpy array with numpy.mean()\n",
    "\n",
    "c_vec = np.array([4.2, 1.2, 11.45, -2, 0, 9, 3.3, np.pi]) # last element is pi\n",
    "\n",
    "\n",
    "print(np.mean(c_vec))\n",
    "\n",
    "# we can also compute:\n",
    "print(np.std(c_vec)) # standard deviation\n",
    "print(np.median(c_vec)) # median\n",
    "print(np.max(c_vec)) # maximum\n",
    "print(np.min(c_vec)) # minimum\n"
   ]
  },
  {
   "cell_type": "markdown",
   "id": "fbe3fd06",
   "metadata": {},
   "source": [
    "# <span style=\"color:darkblue\"> Visualization with Lists and Arrays </span>"
   ]
  },
  {
   "cell_type": "markdown",
   "id": "dbeea37c",
   "metadata": {},
   "source": [
    "### Arrays are useful when working with numerical data. For other data, like categorical data, lists will suffice "
   ]
  },
  {
   "cell_type": "code",
   "execution_count": 8,
   "id": "ebde13e4",
   "metadata": {},
   "outputs": [
    {
     "data": {
      "image/png": "[encoded data removed]",
      "text/plain": [
       "<Figure size 640x480 with 1 Axes>"
      ]
     },
     "metadata": {},
     "output_type": "display_data"
    }
   ],
   "source": [
    "# use matplotlib.pyplot to create a histogram of categorical data\n",
    "\n",
    "import matplotlib.pyplot as plt\n",
    "\n",
    "# Suppose a news outlet polls a sample of its subscribers to learn about \n",
    "# the typical age range they are reaching. Each subscriber chooses one of\n",
    "# the following options:\n",
    "#   - 17 and under\n",
    "#   - 18-25\n",
    "#   - 26-39\n",
    "#   - 40-55\n",
    "#   - 56 and older\n",
    "\n",
    "# store data as list\n",
    "subscriber_ages = [\"40-55\", \"40-55\", \"17 and under\", \"56 and older\", \"26-39\", \n",
    "                   \"56 and older\", \"18-25\", \"18-25\", \"56 and older\", \"40-55\",\n",
    "                   \"18-25\", \"56 and older\", \"56 and older\", \"40-55\", \"40-55\",\n",
    "                   \"56 and older\", \"26-39\", \"56 and older\", \"18-25\"]\n",
    "\n",
    "plt.hist(x = subscriber_ages)\n",
    "plt.show()\n",
    "\n"
   ]
  },
  {
   "cell_type": "markdown",
   "id": "7d36f13d",
   "metadata": {},
   "source": [
    "##### Create a scatter plot of the function\n",
    "\n",
    "$f(x) = x^3 - 2x + \\frac{1}{2}$\n",
    "\n",
    "at equally spaced points over the interval $-1.5 \\leq x \\leq 1.5$ "
   ]
  },
  {
   "cell_type": "code",
   "execution_count": null,
   "id": "e2dac0e2",
   "metadata": {},
   "outputs": [],
   "source": [
    "# we'll choose \n",
    "x_vals = [-1.5, -1.25, -1, -0.75, -0.5, -0.25, 0, 0.25, 0.5, 0.75, 1, 1.25, 1.5]\n",
    "x_vals = np.array(x_vals)\n",
    "\n",
    "y_vals = x_vals**3 - 2*x_vals + 0.5\n",
    "\n",
    "plt.scatter(x = x_vals, y = y_vals)\n",
    "plt.show()"
   ]
  },
  {
   "cell_type": "markdown",
   "id": "dc4fea7a",
   "metadata": {},
   "source": [
    "# <span style=\"color:darkblue\"> Exercises </span>"
   ]
  },
  {
   "cell_type": "markdown",
   "id": "bff6f089",
   "metadata": {},
   "source": [
    "#### 1a) Below are two lists containing the best picture winners from the years 2016-2019, and the best picture winners from 2020-2023.\n",
    "\n",
    "#### Concatenate the two lists to create a new list \"best_picture_2016_to_2023\""
   ]
  },
  {
   "cell_type": "code",
   "execution_count": 6,
   "id": "4d73c82a",
   "metadata": {},
   "outputs": [
    {
     "name": "stdout",
     "output_type": "stream",
     "text": [
      "['Moonlight', 'The Shape of Water', 'Green Book', 'Parasite', 'Nomadland', 'CODA', 'Everything Everywhere All at Once', 'Oppenheimer']\n"
     ]
    }
   ],
   "source": [
    "best_picture_2016_to_2019 = [\"Moonlight\", \"The Shape of Water\", \"Green Book\", \n",
    "                             \"Parasite\"]\n",
    "\n",
    "best_picture_2020_to_2023 = [\"Nomadland\", \"CODA\", \"Everything Everywhere All at Once\", \n",
    "                             \"Oppenheimer\"]\n",
    "\n",
    "# your code here\n",
    "\n",
    "all_best_pictures = best_picture_2016_to_2019 + best_picture_2020_to_2023\n",
    "print(all_best_pictures)\n"
   ]
  },
  {
   "cell_type": "markdown",
   "id": "47268e72",
   "metadata": {},
   "source": [
    "#### 1b) The best picture winner in 2024 was \"Anora\". Using the list you created above, create a list of all best picture winners from 2016 to 2024."
   ]
  },
  {
   "cell_type": "code",
   "execution_count": 7,
   "id": "40795fdd",
   "metadata": {},
   "outputs": [
    {
     "name": "stdout",
     "output_type": "stream",
     "text": [
      "['Moonlight', 'The Shape of Water', 'Green Book', 'Parasite', 'Nomadland', 'CODA', 'Everything Everywhere All at Once', 'Oppenheimer', 'Anora']\n"
     ]
    }
   ],
   "source": [
    "# your code here\n",
    "\n",
    "all_best_pictures = best_picture_2016_to_2019 + best_picture_2020_to_2023 +[\"Anora\"]\n",
    "print(all_best_pictures)"
   ]
  },
  {
   "cell_type": "markdown",
   "id": "6e3927dc",
   "metadata": {},
   "source": [
    "#### 2) Poll the people sitting around you what their favorite color is (and poll yourself). Using a list and matplotlib.pyplot, create a histogram describing the frequency of favorite colors in your region of the classroom."
   ]
  },
  {
   "cell_type": "code",
   "execution_count": null,
   "id": "d54aa409",
   "metadata": {},
   "outputs": [
    {
     "data": {
      "text/plain": [
       "(array([1., 1., 1., 1., 0., 1., 1., 1., 1., 1.]),\n",
       " array([0. , 0.8, 1.6, 2.4, 3.2, 4. , 4.8, 5.6, 6.4, 7.2, 8. ]),\n",
       " <BarContainer object of 10 artists>)"
      ]
     },
     "execution_count": 10,
     "metadata": {},
     "output_type": "execute_result"
    },
    {
     "data": {
      "image/png": "[encoded data removed]",
      "text/plain": [
       "<Figure size 640x480 with 1 Axes>"
      ]
     },
     "metadata": {},
     "output_type": "display_data"
    }
   ],
   "source": [
    "# your code here\n",
    "\n",
    "color = [\"red\", \"blue\", \"green\", \"yellow\"]\n",
    "\n"
   ]
  },
  {
   "cell_type": "markdown",
   "id": "caf8c92b",
   "metadata": {},
   "source": [
    "#### 3) Using NumPy, do the following:\n",
    "- #### Define a variable $x = 5$\n",
    "- #### Compute the value of $\\pi x^2$\n",
    "- #### Compute the value of $\\dfrac{1}{\\sqrt{2\\pi}}\\mathrm{e}^{-x^2}$\n",
    "- #### Compute the value of $\\ln\\big(\\dfrac{2x + 1}{x + 2}\\big)$\n"
   ]
  },
  {
   "cell_type": "code",
   "execution_count": null,
   "id": "6aa4bd5e",
   "metadata": {},
   "outputs": [],
   "source": [
    "# your code here\n",
    "\n"
   ]
  },
  {
   "cell_type": "markdown",
   "id": "bfdc3c9a",
   "metadata": {},
   "source": [
    "#### 4) The code cell below defines two vectors\n",
    "\n",
    "$a = \\begin{pmatrix} a_1\\\\a_2\\\\a_3\\end{pmatrix},\\quad b = \\begin{pmatrix} b_1\\\\b_2\\\\b_3\\end{pmatrix}$\n",
    "\n",
    "#### In one line of code each, define the following vectors:\n",
    "$c = \\begin{pmatrix} a_1\\times b_1\\\\ a_2 \\times b_2 \\\\ a_3 \\times b_3 \\end{pmatrix}, \\quad d = \\begin{pmatrix} 5 - a_1\\\\ 5 - a_2 \\\\ 5 - a_3 \\end{pmatrix},\\quad e = \\begin{pmatrix} (a_1 - b_1)/2 \\\\ (a_2 - b_2)/2 \\\\ (a_3 - b_3)/2\\end{pmatrix}$\n",
    "\n",
    "$f = \\begin{pmatrix} b_1^{a_1}\\\\ b_2^{a_2} \\\\ b_3^{a_3} \\end{pmatrix},\\quad g = \\begin{pmatrix} 2^{a_1}\\\\ 2^{a_2} \\\\ 2^{a_3}\\end{pmatrix},\\quad h = \\begin{pmatrix} \\mathrm{e}^{a_1 + b_1} \\\\ \\mathrm{e}^{a_2 + b_2} \\\\ \\mathrm{e}^{a_3 + b_3} \\end{pmatrix}$\n",
    "\n",
    "#### (Try to extend the vector operations you saw above)\n"
   ]
  },
  {
   "cell_type": "code",
   "execution_count": null,
   "id": "8c7fc9db",
   "metadata": {},
   "outputs": [],
   "source": [
    "a = np.array([2, 1.2, 3.4])\n",
    "b = np.array([2.2, -3, 10.01])\n",
    "\n",
    "# your code here\n"
   ]
  },
  {
   "cell_type": "markdown",
   "id": "ccb7ef98",
   "metadata": {},
   "source": [
    "#### 5) Below are two arrays:\n",
    "\n",
    "$a = \\begin{pmatrix} a_1\\\\a_2\\\\a_3\\\\a_4\\end{pmatrix},\\quad b = \\begin{pmatrix} b_1\\\\b_2\\\\b_3\\\\b_4\\end{pmatrix}$\n",
    "\n",
    "### Define a new vector\n",
    "\n",
    "$c = \\begin{pmatrix} a_1/b_1\\\\ a_2/b_2\\\\ a_3/b_3\\\\a_4/b_4\\end{pmatrix}$\n",
    "\n",
    "### and print its value. What do you see?\n",
    "\n",
    "\n"
   ]
  },
  {
   "cell_type": "code",
   "execution_count": null,
   "id": "bace0bc1",
   "metadata": {},
   "outputs": [],
   "source": [
    "a = np.array([0, 1.0, np.pi, np.cos(np.pi/12)])\n",
    "b = np.array([0, 2.0, 4, 0])\n",
    "\n",
    "# your code here\n"
   ]
  },
  {
   "cell_type": "markdown",
   "id": "7f14be56",
   "metadata": {},
   "source": [
    "#### 6) Using NumPy arrays, create a scatter plot of the function\n",
    "\n",
    "$q(x) = \\sin(\\pi x) + 1$\n",
    "\n",
    "#### at a set of points in the interval $0 \\leq x \\leq 2$. \n",
    "\n"
   ]
  },
  {
   "cell_type": "code",
   "execution_count": null,
   "id": "c50181b5",
   "metadata": {},
   "outputs": [],
   "source": [
    "# your code here\n",
    "\n",
    "\n"
   ]
  }
 ],
 "metadata": {
  "kernelspec": {
   "display_name": "Python 3",
   "language": "python",
   "name": "python3"
  },
  "language_info": {
   "codemirror_mode": {
    "name": "ipython",
    "version": 3
   },
   "file_extension": ".py",
   "mimetype": "text/x-python",
   "name": "python",
   "nbconvert_exporter": "python",
   "pygments_lexer": "ipython3",
   "version": "3.13.7"
  }
 },
 "nbformat": 4,
 "nbformat_minor": 5
}
